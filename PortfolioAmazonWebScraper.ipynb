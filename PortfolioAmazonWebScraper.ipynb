{
 "cells": [
  {
   "cell_type": "code",
   "execution_count": 33,
   "id": "0cce065c",
   "metadata": {},
   "outputs": [],
   "source": [
    "#import libraries\n",
    "\n",
    "from bs4 import BeautifulSoup\n",
    "import requests\n",
    "import smtplib\n",
    "import time\n",
    "import datetime\n",
    "import pandas as pd\n",
    "import csv\n"
   ]
  },
  {
   "cell_type": "code",
   "execution_count": 34,
   "id": "77a02156",
   "metadata": {},
   "outputs": [
    {
     "name": "stdout",
     "output_type": "stream",
     "text": [
      "\n",
      "           Apple iPhone 13 Pro Max (256GB) - Sierra Blue\n",
      "          \n",
      "\n",
      "                   £1,149.00\n",
      "                  \n"
     ]
    }
   ],
   "source": [
    "# Connect to website\n",
    "\n",
    "URL = 'https://www.amazon.co.uk/Apple-iPhone-Pro-Max-256GB/dp/B09G9DSJH3/ref=sr_1_1_sspa?crid=2SKHGZNKB52GJ&dchild=1&keywords=iphone+13+pro+max&qid=1634643466&sr=8-1-spons&psc=1&spLa=ZW5jcnlwdGVkUXVhbGlmaWVyPUEzMjEzTlpTTTZQVzlWJmVuY3J5cHRlZElkPUEwODU3MDQyM0tESU1GRDFFWVpKNSZlbmNyeXB0ZWRBZElkPUEwODg2NDQ2RTI2MldPRU42OVpUJndpZGdldE5hbWU9c3BfYXRmJmFjdGlvbj1jbGlja1JlZGlyZWN0JmRvTm90TG9nQ2xpY2s9dHJ1ZQ=='\n",
    "\n",
    "headers = {\"User-Agent\": \"Mozilla/5.0 (Macintosh; Intel Mac OS X 10_15_7) AppleWebKit/537.36 (KHTML, like Gecko) Chrome/94.0.4606.61 Safari/537.36\"}\n",
    "\n",
    "page = requests.get(URL, headers=headers)\n",
    "\n",
    "soup1 = BeautifulSoup(page.content, \"html.parser\")\n",
    "\n",
    "soup2 = BeautifulSoup(soup1.prettify(), \"html.parser\")\n",
    "\n",
    "\n",
    "title = soup2.find(id='productTitle').get_text()\n",
    "\n",
    "price = soup2.find(id='price_inside_buybox').get_text()\n",
    "\n",
    "\n",
    "print(title)\n",
    "print(price)\n",
    "\n",
    "\n",
    "\n",
    "\n",
    "\n",
    "\n",
    "\n",
    "\n"
   ]
  },
  {
   "cell_type": "code",
   "execution_count": 35,
   "id": "2b4b1c74",
   "metadata": {},
   "outputs": [
    {
     "name": "stdout",
     "output_type": "stream",
     "text": [
      "Apple iPhone 13 Pro Max (256GB) - Sierra Blue\n",
      "1,149.00\n"
     ]
    }
   ],
   "source": [
    "price = price.strip()[1:]\n",
    "title = title.strip()[0:]\n",
    "\n",
    "print(title)\n",
    "print(price)\n"
   ]
  },
  {
   "cell_type": "code",
   "execution_count": 36,
   "id": "173e808b",
   "metadata": {},
   "outputs": [],
   "source": [
    "# Add date and time\n",
    "\n",
    "today = datetime.date.today()\n",
    "\n",
    "header = [\"Title\", \"Price\", \"Date\"]\n",
    "data = [title, price, today]\n",
    "\n",
    "# Create csv to store data\n",
    "\n",
    "with open('AWSData.csv', 'w', newline='', encoding='UTF8') as f:\n",
    "    writer = csv.writer(f)\n",
    "    writer.writerow(header)\n",
    "    writer.writerow(data)\n"
   ]
  },
  {
   "cell_type": "code",
   "execution_count": 37,
   "id": "25f4b456",
   "metadata": {},
   "outputs": [
    {
     "name": "stdout",
     "output_type": "stream",
     "text": [
      "                                           Title     Price        Date\n",
      "0  Apple iPhone 13 Pro Max (256GB) - Sierra Blue  1,149.00  2021-10-19\n"
     ]
    }
   ],
   "source": [
    "df = pd.read_csv('/Users/elliotreeks/AWSData.csv')\n",
    "\n",
    "print(df)\n"
   ]
  },
  {
   "cell_type": "code",
   "execution_count": 38,
   "id": "20e2ace4",
   "metadata": {},
   "outputs": [],
   "source": [
    "# Open csv and check all in order\n",
    "\n",
    "with open('AWSData.csv', 'a+', newline='', encoding='UTF8') as f:\n",
    "    writer = csv.writer(f) \n",
    "    writer.writerow(data)"
   ]
  },
  {
   "cell_type": "code",
   "execution_count": 39,
   "id": "6704994a",
   "metadata": {},
   "outputs": [],
   "source": [
    "# Define price checking function\n",
    "\n",
    "def check_price():\n",
    "    URL = 'https://www.amazon.co.uk/Apple-iPhone-Pro-Max-256GB/dp/B09G9DSJH3/ref=sr_1_1_sspa?crid=2SKHGZNKB52GJ&dchild=1&keywords=iphone+13+pro+max&qid=1634643466&sr=8-1-spons&psc=1&spLa=ZW5jcnlwdGVkUXVhbGlmaWVyPUEzMjEzTlpTTTZQVzlWJmVuY3J5cHRlZElkPUEwODU3MDQyM0tESU1GRDFFWVpKNSZlbmNyeXB0ZWRBZElkPUEwODg2NDQ2RTI2MldPRU42OVpUJndpZGdldE5hbWU9c3BfYXRmJmFjdGlvbj1jbGlja1JlZGlyZWN0JmRvTm90TG9nQ2xpY2s9dHJ1ZQ=='\n",
    "\n",
    "    headers = {\"User-Agent\": \"Mozilla/5.0 (Macintosh; Intel Mac OS X 10_15_7) AppleWebKit/537.36 (KHTML, like Gecko) Chrome/94.0.4606.61 Safari/537.36\"}\n",
    "\n",
    "    page = requests.get(URL, headers=headers)\n",
    "\n",
    "    soup1 = BeautifulSoup(page.content, \"html.parser\")\n",
    "\n",
    "    soup2 = BeautifulSoup(soup1.prettify(), \"html.parser\")\n",
    "\n",
    "\n",
    "    title = soup2.find(id='productTitle').get_text()\n",
    "\n",
    "    price = soup2.find(id='price_inside_buybox').get_text()\n",
    "    \n",
    "    price = price.strip()[1:]\n",
    "    title = title.strip()[0:]\n",
    "    \n",
    "\n",
    "    import datetime\n",
    "\n",
    "    today = datetime.date.today()\n",
    "    \n",
    "    import csv\n",
    "    \n",
    "    header = [\"Title\", \"Price\", \"Date\"]\n",
    "    data = [title, price, today]\n",
    "    \n",
    "    with open('AWSData.csv', 'a+', newline='', encoding='UTF8') as f:\n",
    "        writer = csv.writer(f) \n",
    "        writer.writerow(data)\n",
    "\n"
   ]
  },
  {
   "cell_type": "code",
   "execution_count": 42,
   "id": "eaebe713",
   "metadata": {},
   "outputs": [
    {
     "ename": "KeyboardInterrupt",
     "evalue": "",
     "output_type": "error",
     "traceback": [
      "\u001b[0;31m---------------------------------------------------------------------------\u001b[0m",
      "\u001b[0;31mKeyboardInterrupt\u001b[0m                         Traceback (most recent call last)",
      "\u001b[0;32m<ipython-input-42-c17967dbb56a>\u001b[0m in \u001b[0;36m<module>\u001b[0;34m\u001b[0m\n\u001b[1;32m      1\u001b[0m \u001b[0;32mwhile\u001b[0m\u001b[0;34m(\u001b[0m\u001b[0;32mTrue\u001b[0m\u001b[0;34m)\u001b[0m\u001b[0;34m:\u001b[0m\u001b[0;34m\u001b[0m\u001b[0;34m\u001b[0m\u001b[0m\n\u001b[1;32m      2\u001b[0m     \u001b[0mcheck_price\u001b[0m\u001b[0;34m(\u001b[0m\u001b[0;34m)\u001b[0m\u001b[0;34m\u001b[0m\u001b[0;34m\u001b[0m\u001b[0m\n\u001b[0;32m----> 3\u001b[0;31m     \u001b[0mtime\u001b[0m\u001b[0;34m.\u001b[0m\u001b[0msleep\u001b[0m\u001b[0;34m(\u001b[0m\u001b[0;36m86400\u001b[0m\u001b[0;34m)\u001b[0m\u001b[0;34m\u001b[0m\u001b[0;34m\u001b[0m\u001b[0m\n\u001b[0m",
      "\u001b[0;31mKeyboardInterrupt\u001b[0m: "
     ]
    }
   ],
   "source": [
    "# This interval is currently set to 24hrs but you can log time at any interval by amending this. Time is in seconds \n",
    "# and it will run until stopped.\n",
    "\n",
    "while(True):\n",
    "    check_price()\n",
    "    time.sleep(86400)"
   ]
  },
  {
   "cell_type": "code",
   "execution_count": 41,
   "id": "68cd0634",
   "metadata": {},
   "outputs": [
    {
     "name": "stdout",
     "output_type": "stream",
     "text": [
      "                                           Title     Price        Date\n",
      "0  Apple iPhone 13 Pro Max (256GB) - Sierra Blue  1,149.00  2021-10-19\n",
      "1  Apple iPhone 13 Pro Max (256GB) - Sierra Blue  1,149.00  2021-10-19\n",
      "2  Apple iPhone 13 Pro Max (256GB) - Sierra Blue  1,149.00  2021-10-19\n",
      "3  Apple iPhone 13 Pro Max (256GB) - Sierra Blue  1,149.00  2021-10-19\n",
      "4  Apple iPhone 13 Pro Max (256GB) - Sierra Blue  1,149.00  2021-10-19\n"
     ]
    }
   ],
   "source": [
    "# Print the data frame to view changes over time\n",
    "\n",
    "df = pd.read_csv('/Users/elliotreeks/AWSData.csv')\n",
    "\n",
    "print(df)\n"
   ]
  },
  {
   "cell_type": "code",
   "execution_count": null,
   "id": "728336c3",
   "metadata": {},
   "outputs": [],
   "source": []
  }
 ],
 "metadata": {
  "kernelspec": {
   "display_name": "Python 3",
   "language": "python",
   "name": "python3"
  },
  "language_info": {
   "codemirror_mode": {
    "name": "ipython",
    "version": 3
   },
   "file_extension": ".py",
   "mimetype": "text/x-python",
   "name": "python",
   "nbconvert_exporter": "python",
   "pygments_lexer": "ipython3",
   "version": "3.8.8"
  }
 },
 "nbformat": 4,
 "nbformat_minor": 5
}
